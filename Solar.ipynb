{
  "cells": [
    {
      "metadata": {},
      "cell_type": "markdown",
      "source": "# Solar Power calculations\n    https://solo3.energynote.eu/geosuite/#/energynote hattieajderian@hotmail.com Solo.2704\n"
    },
    {
      "metadata": {
        "collapsed": true,
        "trusted": false
      },
      "cell_type": "code",
      "source": "print('Average daily energy consumption')\n\nprint('Average daily energy generation ')\nprint('Average daily energy export (highly unlikely to be generation minus consumption, given timings) ')\nprint('Do you need EPS (Emergency Power Supply) in case the grid fails? If so how much power (in kW or Amps) will you need, and for how long? ')\nprint('Is this a financial investment, or future proofing against potential grid failure and/or energy price increases, or are you considering it for environmental reasons?')\n",
      "execution_count": null,
      "outputs": []
    }
  ],
  "metadata": {
    "kernelspec": {
      "name": "python36",
      "display_name": "Python 3.6",
      "language": "python"
    },
    "language_info": {
      "mimetype": "text/x-python",
      "nbconvert_exporter": "python",
      "name": "python",
      "pygments_lexer": "ipython3",
      "version": "3.6.6",
      "file_extension": ".py",
      "codemirror_mode": {
        "version": 3,
        "name": "ipython"
      }
    }
  },
  "nbformat": 4,
  "nbformat_minor": 2
}